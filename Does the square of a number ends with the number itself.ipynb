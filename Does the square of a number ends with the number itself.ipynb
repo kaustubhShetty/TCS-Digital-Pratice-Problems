{
 "cells": [
  {
   "cell_type": "markdown",
   "metadata": {},
   "source": [
    "2 conditions are given\n",
    "1. The square of a number should end with the number itself\n",
    "2. The number should be a postive number"
   ]
  },
  {
   "cell_type": "code",
   "execution_count": 6,
   "metadata": {},
   "outputs": [
    {
     "name": "stdout",
     "output_type": "stream",
     "text": [
      "-6\n",
      "Wrong input\n"
     ]
    }
   ],
   "source": [
    "if __name__==\"__main__\":\n",
    "    number = int(input())\n",
    "    if number>0:\n",
    "        square = number*number\n",
    "        last_digit = square%10\n",
    "        if number==last_digit:\n",
    "            print(\"Correct Number\")\n",
    "        else:\n",
    "            print(\"Incorrect Number\")\n",
    "    else:\n",
    "        print(\"Wrong Input\")"
   ]
  },
  {
   "cell_type": "code",
   "execution_count": null,
   "metadata": {},
   "outputs": [],
   "source": []
  }
 ],
 "metadata": {
  "kernelspec": {
   "display_name": "Python 3",
   "language": "python",
   "name": "python3"
  },
  "language_info": {
   "codemirror_mode": {
    "name": "ipython",
    "version": 3
   },
   "file_extension": ".py",
   "mimetype": "text/x-python",
   "name": "python",
   "nbconvert_exporter": "python",
   "pygments_lexer": "ipython3",
   "version": "3.7.4"
  }
 },
 "nbformat": 4,
 "nbformat_minor": 2
}
