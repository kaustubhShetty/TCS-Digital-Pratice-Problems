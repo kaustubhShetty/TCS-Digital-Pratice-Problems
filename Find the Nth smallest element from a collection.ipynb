{
 "cells": [
  {
   "cell_type": "markdown",
   "metadata": {},
   "source": [
    "# Write a program to find the Nth smallest element from a collection"
   ]
  },
  {
   "cell_type": "code",
   "execution_count": 5,
   "metadata": {},
   "outputs": [
    {
     "name": "stdout",
     "output_type": "stream",
     "text": [
      "5\n",
      "40\n",
      "50\n",
      "30\n",
      "10\n",
      "20\n",
      "50\n"
     ]
    }
   ],
   "source": [
    "#Solution 1\n",
    "if __name__ == '__main__':\n",
    "    size_of_array = int(input())\n",
    "    array=[]\n",
    "    for i in range(0,size_of_array):\n",
    "        array.append(int(input()))\n",
    "    array.sort()\n",
    "    print(array[size_of_array-1])"
   ]
  },
  {
   "cell_type": "code",
   "execution_count": 9,
   "metadata": {},
   "outputs": [
    {
     "name": "stdout",
     "output_type": "stream",
     "text": [
      "5\n",
      "10\n",
      "20\n",
      "30\n",
      "40\n",
      "50\n",
      "10\n"
     ]
    }
   ],
   "source": [
    "#Solution 2   #Currently not working\n",
    "\n",
    "if __name__ == '__main__':\n",
    "    size_of_array = int(input())\n",
    "    array=[]\n",
    "    for i in range(0,size_of_array):\n",
    "        array.append(int(input()))\n",
    "    #find min and pop out\n",
    "    minimum_element=100000\n",
    "    for i in range(0,size_of_array-1):\n",
    "        for j in range(len(array)): #finds minimum element once iterate once over list\n",
    "            if array[j]<minimum_element:\n",
    "                minimum_element = array[j]\n",
    "                minimum_ele_index = j\n",
    "        array.pop(minimum_ele_index)\n",
    "    for k in range(len(array)):\n",
    "        if array[k]<minimum_element:\n",
    "                minimum_element = array[k]\n",
    "                minimum_ele_index = k\n",
    "    print(minimum_element)          \n",
    "#     print(minimum_element)\n",
    "#     print(minimum_ele_index)\n"
   ]
  },
  {
   "cell_type": "code",
   "execution_count": null,
   "metadata": {},
   "outputs": [],
   "source": []
  }
 ],
 "metadata": {
  "kernelspec": {
   "display_name": "Python 3",
   "language": "python",
   "name": "python3"
  },
  "language_info": {
   "codemirror_mode": {
    "name": "ipython",
    "version": 3
   },
   "file_extension": ".py",
   "mimetype": "text/x-python",
   "name": "python",
   "nbconvert_exporter": "python",
   "pygments_lexer": "ipython3",
   "version": "3.7.4"
  }
 },
 "nbformat": 4,
 "nbformat_minor": 2
}
